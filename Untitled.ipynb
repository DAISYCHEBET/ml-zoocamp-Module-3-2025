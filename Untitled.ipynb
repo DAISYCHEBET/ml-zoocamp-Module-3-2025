{
 "cells": [
  {
   "cell_type": "code",
   "execution_count": 1,
   "id": "ef5b1360-3d9f-4585-b35e-bb10136ce726",
   "metadata": {},
   "outputs": [],
   "source": [
    "import pandas as pd\n",
    "df=pd.read_csv(\"https://raw.githubusercontent.com/alexeygrigorev/datasets/master/course_lead_scoring.csv\")"
   ]
  },
  {
   "cell_type": "code",
   "execution_count": 2,
   "id": "b289f662-54fd-4990-a6d9-960ae12c6a68",
   "metadata": {},
   "outputs": [
    {
     "data": {
      "text/html": [
       "<div>\n",
       "<style scoped>\n",
       "    .dataframe tbody tr th:only-of-type {\n",
       "        vertical-align: middle;\n",
       "    }\n",
       "\n",
       "    .dataframe tbody tr th {\n",
       "        vertical-align: top;\n",
       "    }\n",
       "\n",
       "    .dataframe thead th {\n",
       "        text-align: right;\n",
       "    }\n",
       "</style>\n",
       "<table border=\"1\" class=\"dataframe\">\n",
       "  <thead>\n",
       "    <tr style=\"text-align: right;\">\n",
       "      <th></th>\n",
       "      <th>lead_source</th>\n",
       "      <th>industry</th>\n",
       "      <th>number_of_courses_viewed</th>\n",
       "      <th>annual_income</th>\n",
       "      <th>employment_status</th>\n",
       "      <th>location</th>\n",
       "      <th>interaction_count</th>\n",
       "      <th>lead_score</th>\n",
       "      <th>converted</th>\n",
       "    </tr>\n",
       "  </thead>\n",
       "  <tbody>\n",
       "    <tr>\n",
       "      <th>168</th>\n",
       "      <td>referral</td>\n",
       "      <td>finance</td>\n",
       "      <td>2</td>\n",
       "      <td>67321.0</td>\n",
       "      <td>employed</td>\n",
       "      <td>south_america</td>\n",
       "      <td>3</td>\n",
       "      <td>0.02</td>\n",
       "      <td>1</td>\n",
       "    </tr>\n",
       "    <tr>\n",
       "      <th>1255</th>\n",
       "      <td>social_media</td>\n",
       "      <td>technology</td>\n",
       "      <td>2</td>\n",
       "      <td>43833.0</td>\n",
       "      <td>unemployed</td>\n",
       "      <td>middle_east</td>\n",
       "      <td>3</td>\n",
       "      <td>0.28</td>\n",
       "      <td>0</td>\n",
       "    </tr>\n",
       "    <tr>\n",
       "      <th>1399</th>\n",
       "      <td>paid_ads</td>\n",
       "      <td>finance</td>\n",
       "      <td>3</td>\n",
       "      <td>70455.0</td>\n",
       "      <td>student</td>\n",
       "      <td>europe</td>\n",
       "      <td>3</td>\n",
       "      <td>0.23</td>\n",
       "      <td>1</td>\n",
       "    </tr>\n",
       "    <tr>\n",
       "      <th>898</th>\n",
       "      <td>social_media</td>\n",
       "      <td>healthcare</td>\n",
       "      <td>1</td>\n",
       "      <td>54955.0</td>\n",
       "      <td>employed</td>\n",
       "      <td>north_america</td>\n",
       "      <td>5</td>\n",
       "      <td>0.16</td>\n",
       "      <td>0</td>\n",
       "    </tr>\n",
       "    <tr>\n",
       "      <th>227</th>\n",
       "      <td>events</td>\n",
       "      <td>technology</td>\n",
       "      <td>2</td>\n",
       "      <td>53037.0</td>\n",
       "      <td>self_employed</td>\n",
       "      <td>NaN</td>\n",
       "      <td>0</td>\n",
       "      <td>0.15</td>\n",
       "      <td>0</td>\n",
       "    </tr>\n",
       "  </tbody>\n",
       "</table>\n",
       "</div>"
      ],
      "text/plain": [
       "       lead_source    industry  number_of_courses_viewed  annual_income  \\\n",
       "168       referral     finance                         2        67321.0   \n",
       "1255  social_media  technology                         2        43833.0   \n",
       "1399      paid_ads     finance                         3        70455.0   \n",
       "898   social_media  healthcare                         1        54955.0   \n",
       "227         events  technology                         2        53037.0   \n",
       "\n",
       "     employment_status       location  interaction_count  lead_score  \\\n",
       "168           employed  south_america                  3        0.02   \n",
       "1255        unemployed    middle_east                  3        0.28   \n",
       "1399           student         europe                  3        0.23   \n",
       "898           employed  north_america                  5        0.16   \n",
       "227      self_employed            NaN                  0        0.15   \n",
       "\n",
       "      converted  \n",
       "168           1  \n",
       "1255          0  \n",
       "1399          1  \n",
       "898           0  \n",
       "227           0  "
      ]
     },
     "execution_count": 2,
     "metadata": {},
     "output_type": "execute_result"
    }
   ],
   "source": [
    "df.sample(5)"
   ]
  },
  {
   "cell_type": "code",
   "execution_count": 3,
   "id": "cdf18816-3e83-4ca1-93de-67aad9faeb0c",
   "metadata": {},
   "outputs": [
    {
     "data": {
      "text/plain": [
       "lead_source                 128\n",
       "industry                    134\n",
       "number_of_courses_viewed      0\n",
       "annual_income               181\n",
       "employment_status           100\n",
       "location                     63\n",
       "interaction_count             0\n",
       "lead_score                    0\n",
       "converted                     0\n",
       "dtype: int64"
      ]
     },
     "execution_count": 3,
     "metadata": {},
     "output_type": "execute_result"
    }
   ],
   "source": [
    "df.isnull().sum()"
   ]
  },
  {
   "cell_type": "code",
   "execution_count": 4,
   "id": "967433a4-0ddc-48c2-a9a0-f0cc7c8cfec1",
   "metadata": {},
   "outputs": [
    {
     "name": "stdout",
     "output_type": "stream",
     "text": [
      "<class 'pandas.core.frame.DataFrame'>\n",
      "RangeIndex: 1462 entries, 0 to 1461\n",
      "Data columns (total 9 columns):\n",
      " #   Column                    Non-Null Count  Dtype  \n",
      "---  ------                    --------------  -----  \n",
      " 0   lead_source               1334 non-null   object \n",
      " 1   industry                  1328 non-null   object \n",
      " 2   number_of_courses_viewed  1462 non-null   int64  \n",
      " 3   annual_income             1281 non-null   float64\n",
      " 4   employment_status         1362 non-null   object \n",
      " 5   location                  1399 non-null   object \n",
      " 6   interaction_count         1462 non-null   int64  \n",
      " 7   lead_score                1462 non-null   float64\n",
      " 8   converted                 1462 non-null   int64  \n",
      "dtypes: float64(2), int64(3), object(4)\n",
      "memory usage: 102.9+ KB\n"
     ]
    }
   ],
   "source": [
    "df.info()"
   ]
  },
  {
   "cell_type": "code",
   "execution_count": 5,
   "id": "b2c75d4f-0884-4ce4-8d83-a6b24a327ee8",
   "metadata": {},
   "outputs": [],
   "source": [
    "string_cols = df.select_dtypes(include=['object']).columns\n",
    "df[string_cols]=df[string_cols].fillna(\"NA\")"
   ]
  },
  {
   "cell_type": "code",
   "execution_count": 6,
   "id": "d5420246-fc2d-490c-a2b8-2c081a18d66c",
   "metadata": {},
   "outputs": [],
   "source": [
    "df[\"annual_income\"]=df[\"annual_income\"].fillna(0.0)"
   ]
  },
  {
   "cell_type": "code",
   "execution_count": 7,
   "id": "ae2e6e2c-1638-4db6-af16-29455593624c",
   "metadata": {},
   "outputs": [
    {
     "data": {
      "text/plain": [
       "lead_source                 0\n",
       "industry                    0\n",
       "number_of_courses_viewed    0\n",
       "annual_income               0\n",
       "employment_status           0\n",
       "location                    0\n",
       "interaction_count           0\n",
       "lead_score                  0\n",
       "converted                   0\n",
       "dtype: int64"
      ]
     },
     "execution_count": 7,
     "metadata": {},
     "output_type": "execute_result"
    }
   ],
   "source": [
    "df.isnull().sum()"
   ]
  },
  {
   "cell_type": "code",
   "execution_count": 8,
   "id": "89deff00-5bc3-49e0-a778-42ba377dc914",
   "metadata": {},
   "outputs": [
    {
     "data": {
      "text/plain": [
       "0    retail\n",
       "Name: industry, dtype: object"
      ]
     },
     "execution_count": 8,
     "metadata": {},
     "output_type": "execute_result"
    }
   ],
   "source": [
    "#Q1 What is the most frequent observation (mode) for the column industry?\n",
    "df[\"industry\"].mode()"
   ]
  },
  {
   "cell_type": "code",
   "execution_count": 9,
   "id": "e3c5b7f5-0869-4456-9cf5-4d9f3d53f4bf",
   "metadata": {},
   "outputs": [
    {
     "data": {
      "text/html": [
       "<div>\n",
       "<style scoped>\n",
       "    .dataframe tbody tr th:only-of-type {\n",
       "        vertical-align: middle;\n",
       "    }\n",
       "\n",
       "    .dataframe tbody tr th {\n",
       "        vertical-align: top;\n",
       "    }\n",
       "\n",
       "    .dataframe thead th {\n",
       "        text-align: right;\n",
       "    }\n",
       "</style>\n",
       "<table border=\"1\" class=\"dataframe\">\n",
       "  <thead>\n",
       "    <tr style=\"text-align: right;\">\n",
       "      <th></th>\n",
       "      <th>number_of_courses_viewed</th>\n",
       "      <th>annual_income</th>\n",
       "      <th>interaction_count</th>\n",
       "      <th>lead_score</th>\n",
       "      <th>converted</th>\n",
       "    </tr>\n",
       "  </thead>\n",
       "  <tbody>\n",
       "    <tr>\n",
       "      <th>number_of_courses_viewed</th>\n",
       "      <td>1.000000</td>\n",
       "      <td>0.009770</td>\n",
       "      <td>-0.023565</td>\n",
       "      <td>-0.004879</td>\n",
       "      <td>0.435914</td>\n",
       "    </tr>\n",
       "    <tr>\n",
       "      <th>annual_income</th>\n",
       "      <td>0.009770</td>\n",
       "      <td>1.000000</td>\n",
       "      <td>0.027036</td>\n",
       "      <td>0.015610</td>\n",
       "      <td>0.053131</td>\n",
       "    </tr>\n",
       "    <tr>\n",
       "      <th>interaction_count</th>\n",
       "      <td>-0.023565</td>\n",
       "      <td>0.027036</td>\n",
       "      <td>1.000000</td>\n",
       "      <td>0.009888</td>\n",
       "      <td>0.374573</td>\n",
       "    </tr>\n",
       "    <tr>\n",
       "      <th>lead_score</th>\n",
       "      <td>-0.004879</td>\n",
       "      <td>0.015610</td>\n",
       "      <td>0.009888</td>\n",
       "      <td>1.000000</td>\n",
       "      <td>0.193673</td>\n",
       "    </tr>\n",
       "    <tr>\n",
       "      <th>converted</th>\n",
       "      <td>0.435914</td>\n",
       "      <td>0.053131</td>\n",
       "      <td>0.374573</td>\n",
       "      <td>0.193673</td>\n",
       "      <td>1.000000</td>\n",
       "    </tr>\n",
       "  </tbody>\n",
       "</table>\n",
       "</div>"
      ],
      "text/plain": [
       "                          number_of_courses_viewed  annual_income  \\\n",
       "number_of_courses_viewed                  1.000000       0.009770   \n",
       "annual_income                             0.009770       1.000000   \n",
       "interaction_count                        -0.023565       0.027036   \n",
       "lead_score                               -0.004879       0.015610   \n",
       "converted                                 0.435914       0.053131   \n",
       "\n",
       "                          interaction_count  lead_score  converted  \n",
       "number_of_courses_viewed          -0.023565   -0.004879   0.435914  \n",
       "annual_income                      0.027036    0.015610   0.053131  \n",
       "interaction_count                  1.000000    0.009888   0.374573  \n",
       "lead_score                         0.009888    1.000000   0.193673  \n",
       "converted                          0.374573    0.193673   1.000000  "
      ]
     },
     "execution_count": 9,
     "metadata": {},
     "output_type": "execute_result"
    }
   ],
   "source": [
    "#Q2 Question Create the correlation matrix for the numerical features of your dataset. In a correlation matrix,What are the two features that have the biggest correlation?\n",
    "numerical_col=df.select_dtypes(include=[\"number\"])\n",
    "corr_matrix=numerical_col.corr()\n",
    "corr_matrix"
   ]
  },
  {
   "cell_type": "code",
   "execution_count": 10,
   "id": "2a1cb8ed-9113-4eb9-a1f8-0a2af4ffd6a0",
   "metadata": {},
   "outputs": [],
   "source": [
    "from sklearn.model_selection import train_test_split\n",
    "X=df.drop(columns=[\"converted\"])\n",
    "y=df[\"converted\"]"
   ]
  },
  {
   "cell_type": "code",
   "execution_count": 11,
   "id": "4c3453c0-5b1d-4e92-b63d-92cbe2d58f46",
   "metadata": {},
   "outputs": [
    {
     "data": {
      "text/html": [
       "<div>\n",
       "<style scoped>\n",
       "    .dataframe tbody tr th:only-of-type {\n",
       "        vertical-align: middle;\n",
       "    }\n",
       "\n",
       "    .dataframe tbody tr th {\n",
       "        vertical-align: top;\n",
       "    }\n",
       "\n",
       "    .dataframe thead th {\n",
       "        text-align: right;\n",
       "    }\n",
       "</style>\n",
       "<table border=\"1\" class=\"dataframe\">\n",
       "  <thead>\n",
       "    <tr style=\"text-align: right;\">\n",
       "      <th></th>\n",
       "      <th>lead_source</th>\n",
       "      <th>industry</th>\n",
       "      <th>number_of_courses_viewed</th>\n",
       "      <th>annual_income</th>\n",
       "      <th>employment_status</th>\n",
       "      <th>location</th>\n",
       "      <th>interaction_count</th>\n",
       "      <th>lead_score</th>\n",
       "    </tr>\n",
       "  </thead>\n",
       "  <tbody>\n",
       "    <tr>\n",
       "      <th>0</th>\n",
       "      <td>paid_ads</td>\n",
       "      <td>NA</td>\n",
       "      <td>1</td>\n",
       "      <td>79450.0</td>\n",
       "      <td>unemployed</td>\n",
       "      <td>south_america</td>\n",
       "      <td>4</td>\n",
       "      <td>0.94</td>\n",
       "    </tr>\n",
       "    <tr>\n",
       "      <th>1</th>\n",
       "      <td>social_media</td>\n",
       "      <td>retail</td>\n",
       "      <td>1</td>\n",
       "      <td>46992.0</td>\n",
       "      <td>employed</td>\n",
       "      <td>south_america</td>\n",
       "      <td>1</td>\n",
       "      <td>0.80</td>\n",
       "    </tr>\n",
       "    <tr>\n",
       "      <th>2</th>\n",
       "      <td>events</td>\n",
       "      <td>healthcare</td>\n",
       "      <td>5</td>\n",
       "      <td>78796.0</td>\n",
       "      <td>unemployed</td>\n",
       "      <td>australia</td>\n",
       "      <td>3</td>\n",
       "      <td>0.69</td>\n",
       "    </tr>\n",
       "    <tr>\n",
       "      <th>3</th>\n",
       "      <td>paid_ads</td>\n",
       "      <td>retail</td>\n",
       "      <td>2</td>\n",
       "      <td>83843.0</td>\n",
       "      <td>NA</td>\n",
       "      <td>australia</td>\n",
       "      <td>1</td>\n",
       "      <td>0.87</td>\n",
       "    </tr>\n",
       "    <tr>\n",
       "      <th>4</th>\n",
       "      <td>referral</td>\n",
       "      <td>education</td>\n",
       "      <td>3</td>\n",
       "      <td>85012.0</td>\n",
       "      <td>self_employed</td>\n",
       "      <td>europe</td>\n",
       "      <td>3</td>\n",
       "      <td>0.62</td>\n",
       "    </tr>\n",
       "    <tr>\n",
       "      <th>...</th>\n",
       "      <td>...</td>\n",
       "      <td>...</td>\n",
       "      <td>...</td>\n",
       "      <td>...</td>\n",
       "      <td>...</td>\n",
       "      <td>...</td>\n",
       "      <td>...</td>\n",
       "      <td>...</td>\n",
       "    </tr>\n",
       "    <tr>\n",
       "      <th>1457</th>\n",
       "      <td>referral</td>\n",
       "      <td>manufacturing</td>\n",
       "      <td>1</td>\n",
       "      <td>0.0</td>\n",
       "      <td>self_employed</td>\n",
       "      <td>north_america</td>\n",
       "      <td>4</td>\n",
       "      <td>0.53</td>\n",
       "    </tr>\n",
       "    <tr>\n",
       "      <th>1458</th>\n",
       "      <td>referral</td>\n",
       "      <td>technology</td>\n",
       "      <td>3</td>\n",
       "      <td>65259.0</td>\n",
       "      <td>student</td>\n",
       "      <td>europe</td>\n",
       "      <td>2</td>\n",
       "      <td>0.24</td>\n",
       "    </tr>\n",
       "    <tr>\n",
       "      <th>1459</th>\n",
       "      <td>paid_ads</td>\n",
       "      <td>technology</td>\n",
       "      <td>1</td>\n",
       "      <td>45688.0</td>\n",
       "      <td>student</td>\n",
       "      <td>north_america</td>\n",
       "      <td>3</td>\n",
       "      <td>0.02</td>\n",
       "    </tr>\n",
       "    <tr>\n",
       "      <th>1460</th>\n",
       "      <td>referral</td>\n",
       "      <td>NA</td>\n",
       "      <td>5</td>\n",
       "      <td>71016.0</td>\n",
       "      <td>self_employed</td>\n",
       "      <td>north_america</td>\n",
       "      <td>0</td>\n",
       "      <td>0.25</td>\n",
       "    </tr>\n",
       "    <tr>\n",
       "      <th>1461</th>\n",
       "      <td>organic_search</td>\n",
       "      <td>finance</td>\n",
       "      <td>3</td>\n",
       "      <td>92855.0</td>\n",
       "      <td>student</td>\n",
       "      <td>north_america</td>\n",
       "      <td>3</td>\n",
       "      <td>0.41</td>\n",
       "    </tr>\n",
       "  </tbody>\n",
       "</table>\n",
       "<p>1462 rows × 8 columns</p>\n",
       "</div>"
      ],
      "text/plain": [
       "         lead_source       industry  number_of_courses_viewed  annual_income  \\\n",
       "0           paid_ads             NA                         1        79450.0   \n",
       "1       social_media         retail                         1        46992.0   \n",
       "2             events     healthcare                         5        78796.0   \n",
       "3           paid_ads         retail                         2        83843.0   \n",
       "4           referral      education                         3        85012.0   \n",
       "...              ...            ...                       ...            ...   \n",
       "1457        referral  manufacturing                         1            0.0   \n",
       "1458        referral     technology                         3        65259.0   \n",
       "1459        paid_ads     technology                         1        45688.0   \n",
       "1460        referral             NA                         5        71016.0   \n",
       "1461  organic_search        finance                         3        92855.0   \n",
       "\n",
       "     employment_status       location  interaction_count  lead_score  \n",
       "0           unemployed  south_america                  4        0.94  \n",
       "1             employed  south_america                  1        0.80  \n",
       "2           unemployed      australia                  3        0.69  \n",
       "3                   NA      australia                  1        0.87  \n",
       "4        self_employed         europe                  3        0.62  \n",
       "...                ...            ...                ...         ...  \n",
       "1457     self_employed  north_america                  4        0.53  \n",
       "1458           student         europe                  2        0.24  \n",
       "1459           student  north_america                  3        0.02  \n",
       "1460     self_employed  north_america                  0        0.25  \n",
       "1461           student  north_america                  3        0.41  \n",
       "\n",
       "[1462 rows x 8 columns]"
      ]
     },
     "execution_count": 11,
     "metadata": {},
     "output_type": "execute_result"
    }
   ],
   "source": [
    "X"
   ]
  },
  {
   "cell_type": "code",
   "execution_count": 12,
   "id": "e0e03756-34cd-4d4b-872e-a7fee0992143",
   "metadata": {},
   "outputs": [
    {
     "data": {
      "text/plain": [
       "lead_source                  object\n",
       "industry                     object\n",
       "number_of_courses_viewed      int64\n",
       "annual_income               float64\n",
       "employment_status            object\n",
       "location                     object\n",
       "interaction_count             int64\n",
       "lead_score                  float64\n",
       "dtype: object"
      ]
     },
     "execution_count": 12,
     "metadata": {},
     "output_type": "execute_result"
    }
   ],
   "source": [
    "X.dtypes"
   ]
  },
  {
   "cell_type": "code",
   "execution_count": 13,
   "id": "c38b710c-1ad4-47d4-9de3-13cdddd3315d",
   "metadata": {},
   "outputs": [],
   "source": [
    "X_train, X_temp, y_train, y_temp = train_test_split(X, y, test_size=0.4, random_state=42)\n",
    "X_val, X_test, y_val, y_test = train_test_split(X_temp, y_temp, test_size=0.5, random_state=42)"
   ]
  },
  {
   "cell_type": "code",
   "execution_count": 14,
   "id": "ae299d84-e360-44fc-a7fb-dfa1b42e6ba6",
   "metadata": {},
   "outputs": [
    {
     "name": "stdout",
     "output_type": "stream",
     "text": [
      "Mutual Information Scores:\n",
      "lead_source: 0.03\n",
      "industry: 0.02\n",
      "employment_status: 0.02\n",
      "location: 0.0\n",
      "\n",
      " The feature with the highest mutual information is 'lead_source' with a score of 0.03\n"
     ]
    }
   ],
   "source": [
    "#Q4\n",
    "from sklearn.preprocessing import OrdinalEncoder\n",
    "from sklearn.feature_selection import mutual_info_classif\n",
    "\n",
    "categorical_cols = ['lead_source', 'industry', 'employment_status', 'location']\n",
    "X_train_sub = X_train[categorical_cols].copy()\n",
    "y_train_sub = y_train.copy()\n",
    "\n",
    "# encode categorical features into integers\n",
    "encoder = OrdinalEncoder(dtype=int)\n",
    "X_encoded = encoder.fit_transform(X_train_sub)\n",
    "\n",
    "# compute mutual information\n",
    "mi_scores = mutual_info_classif(X_encoded, y_train_sub, discrete_features=True, random_state=42)\n",
    "\n",
    "# round to 2 decimals\n",
    "mi_scores_rounded = [round(score, 2) for score in mi_scores]\n",
    "\n",
    "# pair results\n",
    "mi_results = dict(zip(categorical_cols, mi_scores_rounded))\n",
    "\n",
    "# display\n",
    "print(\"Mutual Information Scores:\")\n",
    "for col, score in mi_results.items():\n",
    "    print(f\"{col}: {score}\")\n",
    "\n",
    "# find highest MI column\n",
    "best_feature = max(mi_results, key=mi_results.get)\n",
    "print(f\"\\n The feature with the highest mutual information is '{best_feature}' \"\n",
    "      f\"with a score of {mi_results[best_feature]}\")"
   ]
  },
  {
   "cell_type": "code",
   "execution_count": 15,
   "id": "7736b8b0-2f07-4169-95b0-168596261ddb",
   "metadata": {},
   "outputs": [
    {
     "name": "stdout",
     "output_type": "stream",
     "text": [
      "Validation accuracy (rounded to 2 decimals): 0.74\n"
     ]
    }
   ],
   "source": [
    "from sklearn.preprocessing import OneHotEncoder\n",
    "from sklearn.linear_model import LogisticRegression\n",
    "from sklearn.metrics import accuracy_score\n",
    "from sklearn.compose import ColumnTransformer\n",
    "from sklearn.pipeline import Pipeline\n",
    "\n",
    "# Define categorical and numerical columns\n",
    "categorical_cols = ['lead_source', 'industry', 'employment_status', 'location']\n",
    "numeric_cols = ['number_of_courses_viewed', 'annual_income', 'interaction_count', 'lead_score']\n",
    "\n",
    "# Preprocessing\n",
    "preprocessor = ColumnTransformer(\n",
    "    transformers=[\n",
    "        ('cat', OneHotEncoder(handle_unknown='ignore'), categorical_cols)],\n",
    "    remainder='passthrough')\n",
    "\n",
    "# Model Definition \n",
    "model = Pipeline([\n",
    "    ('preproc', preprocessor),\n",
    "    ('clf', LogisticRegression(solver='liblinear', C=1.0, max_iter=1000, random_state=42))])\n",
    "\n",
    "# Train \n",
    "model.fit(X_train, y_train)\n",
    "\n",
    "# Validate \n",
    "y_val_pred = model.predict(X_val)\n",
    "val_accuracy = accuracy_score(y_val, y_val_pred)\n",
    "\n",
    "print(\"Validation accuracy (rounded to 2 decimals):\", round(val_accuracy, 2))"
   ]
  },
  {
   "cell_type": "code",
   "execution_count": 16,
   "id": "4eb49522-9207-412b-bc2c-46ed4e6c54c6",
   "metadata": {},
   "outputs": [
    {
     "name": "stdout",
     "output_type": "stream",
     "text": [
      "Original accuracy: 0.7431506849315068\n"
     ]
    }
   ],
   "source": [
    "#Q5\n",
    "original_accuracy = accuracy_score(y_val, y_val_pred)\n",
    "print(\"Original accuracy:\", original_accuracy)"
   ]
  },
  {
   "cell_type": "code",
   "execution_count": 17,
   "id": "d6790825-2d35-497f-b608-477a135d524b",
   "metadata": {},
   "outputs": [],
   "source": [
    "def accuracy_without_feature(feature_to_remove):\n",
    "    X_temp = X.drop(columns=[feature_to_remove])\n",
    "    \n",
    "    # Update categorical and numeric columns dynamically\n",
    "    cat_temp = [col for col in categorical_cols if col != feature_to_remove]\n",
    "    num_temp = [col for col in numeric_cols if col != feature_to_remove]\n",
    "    \n",
    "    # Redefine preprocessor and model\n",
    "    preproc_temp = ColumnTransformer(\n",
    "        transformers=[\n",
    "            ('cat', OneHotEncoder(handle_unknown='ignore'), cat_temp)],\n",
    "        remainder='passthrough')\n",
    "    \n",
    "    model_temp = Pipeline([\n",
    "        ('preproc', preproc_temp),\n",
    "        ('clf', LogisticRegression(solver='liblinear', C=1.0, max_iter=1000, random_state=42))])\n",
    "    \n",
    "    X_train_t, X_val_t, y_train_t, y_val_t = train_test_split(X_temp, y, test_size=0.25, random_state=42)\n",
    "    model_temp.fit(X_train_t, y_train_t)\n",
    "    y_pred_t = model_temp.predict(X_val_t)\n",
    "    \n",
    "    return accuracy_score(y_val_t, y_pred_t)"
   ]
  },
  {
   "cell_type": "code",
   "execution_count": 18,
   "id": "e6de287b-f074-4afa-800d-e5c060b3335f",
   "metadata": {},
   "outputs": [
    {
     "name": "stdout",
     "output_type": "stream",
     "text": [
      "industry: Accuracy without feature = 0.7377, Difference = -0.0054\n",
      "employment_status: Accuracy without feature = 0.7268, Difference = -0.0164\n",
      "lead_score: Accuracy without feature = 0.7377, Difference = -0.0054\n"
     ]
    }
   ],
   "source": [
    "features_to_test = ['industry', 'employment_status', 'lead_score']\n",
    "accuracy_diffs = {}\n",
    "\n",
    "for f in features_to_test:\n",
    "    acc = accuracy_without_feature(f)\n",
    "    diff = acc - original_accuracy\n",
    "    accuracy_diffs[f] = diff\n",
    "    print(f\"{f}: Accuracy without feature = {acc:.4f}, Difference = {diff:.4f}\")"
   ]
  },
  {
   "cell_type": "code",
   "execution_count": 19,
   "id": "9e130f41-9763-4f1f-836b-f7514bf30211",
   "metadata": {},
   "outputs": [
    {
     "name": "stdout",
     "output_type": "stream",
     "text": [
      "\n",
      "Least useful feature: industry\n"
     ]
    }
   ],
   "source": [
    "least_useful = min(accuracy_diffs, key=lambda k: abs(accuracy_diffs[k]))\n",
    "print(\"\\nLeast useful feature:\", least_useful)"
   ]
  },
  {
   "cell_type": "code",
   "execution_count": 20,
   "id": "c07f9bc6-8e07-439b-9413-11c81eaf7b62",
   "metadata": {},
   "outputs": [
    {
     "name": "stdout",
     "output_type": "stream",
     "text": [
      "C=0.01: Validation accuracy = 0.743\n",
      "C=0.1: Validation accuracy = 0.743\n",
      "C=1: Validation accuracy = 0.743\n",
      "C=10: Validation accuracy = 0.743\n",
      "C=100: Validation accuracy = 0.743\n",
      "\n",
      "Best C: 0.01\n"
     ]
    }
   ],
   "source": [
    "#Q6\n",
    "# Try different C values \n",
    "C_values = [0.01, 0.1, 1, 10, 100]\n",
    "results = {}\n",
    "\n",
    "for c in C_values:\n",
    "    model = Pipeline([\n",
    "        ('preproc', preprocessor),\n",
    "        ('clf', LogisticRegression(\n",
    "            solver='liblinear', \n",
    "            C=c, \n",
    "            max_iter=1000, \n",
    "            random_state=42\n",
    "        ))\n",
    "    ])\n",
    "    \n",
    "    # Train\n",
    "    model.fit(X_train, y_train)\n",
    "    \n",
    "    # Validate\n",
    "    y_pred = model.predict(X_val)\n",
    "    acc = accuracy_score(y_val, y_pred)\n",
    "    results[c] = round(acc, 3)\n",
    "    print(f\"C={c}: Validation accuracy = {results[c]}\")\n",
    "\n",
    "# Find best C \n",
    "best_c = max(results, key=lambda c: (results[c], -c))\n",
    "print(\"\\nBest C:\", best_c)"
   ]
  },
  {
   "cell_type": "code",
   "execution_count": null,
   "id": "c05d6a69-d685-4600-9a74-1f858ad865c3",
   "metadata": {},
   "outputs": [],
   "source": []
  }
 ],
 "metadata": {
  "kernelspec": {
   "display_name": "Python (ml3)",
   "language": "python",
   "name": "myenv"
  },
  "language_info": {
   "codemirror_mode": {
    "name": "ipython",
    "version": 3
   },
   "file_extension": ".py",
   "mimetype": "text/x-python",
   "name": "python",
   "nbconvert_exporter": "python",
   "pygments_lexer": "ipython3",
   "version": "3.12.11"
  }
 },
 "nbformat": 4,
 "nbformat_minor": 5
}
